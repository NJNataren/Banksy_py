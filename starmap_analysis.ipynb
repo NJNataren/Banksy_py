{
 "cells": [
  {
   "cell_type": "code",
   "execution_count": null,
   "metadata": {},
   "outputs": [],
   "source": [
    "import warnings\n",
    "warnings.filterwarnings(\"ignore\") \n",
    "import os, time\n",
    "import pandas as pd\n",
    "import numpy as np\n",
    "import random\n",
    "import scipy.sparse as sparse\n",
    "from scipy.sparse import csr_matrix, issparse\n",
    "\n",
    "from banksy.initialize_banksy import initialize_banksy\n",
    "from banksy.run_banksy import run_banksy_multiparam\n",
    "from banksy_utils.color_lists import spagcn_color\n",
    "\n",
    "start = time.perf_counter_ns()\n",
    "random_seed = 1234\n",
    "cluster_algorithm = 'leiden'\n",
    "np.random.seed(random_seed)\n",
    "random.seed(random_seed)"
   ]
  },
  {
   "cell_type": "markdown",
   "metadata": {},
   "source": [
    "## Input-Ouput (IO) Options\n",
    "1. Loading '.h5ad' file\n",
    "2. Saving output images and '.csv' files in 'output_folder'"
   ]
  },
  {
   "cell_type": "code",
   "execution_count": null,
   "metadata": {},
   "outputs": [],
   "source": [
    "from banksy_utils.load_data import load_adata\n",
    "\n",
    "'''Main tunable variation in running the BANKSY algorithm'''\n",
    "\n",
    "'''Input File'''\n",
    "file_path = os.path.join(\"data\", \"starmap\")\n",
    "adata_filename = \"starmap_BY3_1k.h5ad\"\n",
    "\n",
    "gcm_filename = \"\"\n",
    "locations_filename = \"\"\n",
    "\n",
    "load_adata_directly = True\n",
    "\n",
    "'''Saving output figures'''\n",
    "save_fig = False\n",
    "\n",
    "output_folder = os.path.join(os.getcwd(), 'data', 'starmap', 'tmp_png', f'{cluster_algorithm}', f'seed{random_seed}')\n",
    "\n",
    "# Colour map\n",
    "c_map = 'tab20'\n",
    "\n",
    "coord_keys = ('x', 'y', 'spatial')\n",
    "num_clusters = 7\n",
    "sample = 'starmap'\n",
    "\n",
    "raw_y, raw_x, adata = load_adata(file_path,\n",
    "                                 load_adata_directly,\n",
    "                                 adata_filename,\n",
    "                                 gcm_filename,\n",
    "                                 locations_filename,\n",
    "                                 coord_keys)\n",
    "\n",
    "adata.var_names_make_unique()"
   ]
  },
  {
   "cell_type": "markdown",
   "metadata": {},
   "source": [
    "## Initial Round of filtering by cell-count and gene counts (Skipped)\n",
    "1. Define 'min_count' and 'max_count' for filtering genes by cell-count\n",
    "2. 'MT-filter' for filtering MT-genes\n",
    "3. 'n_top_genes' for selecting the top n HVGs or SVGs\n",
    "\n",
    "Note that: For STARmap, we skip this step as the data matrix loaded has already been preprocessed using the ipython script provided by the authors"
   ]
  },
  {
   "cell_type": "markdown",
   "metadata": {},
   "source": [
    "### Load Manual annotations from datafile"
   ]
  },
  {
   "cell_type": "code",
   "execution_count": null,
   "metadata": {},
   "outputs": [],
   "source": [
    "'''Load manual annotations'''\n",
    "adata = adata[adata.obs[\"cluster_name\"].notnull()]\n",
    "\n",
    "annotations =  pd.read_csv(os.path.join(file_path, \"Starmap_BY3_1k_meta_annotated_18oct22.csv\"))\n",
    "\n",
    "manual_labels =  \"smoothed_manual\" # Ground truth annotations in pd.DataFrame\n",
    "annotation_key = 'manual_annotations' # Key to access annotations in adata.obs[annotation_keys]\n",
    "\n",
    "print(annotations.loc[:,manual_labels ])\n",
    "adata.obs[annotation_key] = annotations.loc[:,manual_labels ].values\n",
    "adata.obs[annotation_key] = adata.obs[annotation_key].astype('category')\n",
    "print(adata.obs[annotation_key])\n",
    "\n",
    "# Add spatial coordinates to '.obsm' attribute\n",
    "adata.obsm[coord_keys[2]] = pd.concat([adata.obs[coord_keys[0]], adata.obs[coord_keys[1]]], axis=1).to_numpy()"
   ]
  },
  {
   "cell_type": "markdown",
   "metadata": {},
   "source": [
    "# Specifying parameters for BANKSY"
   ]
  },
  {
   "cell_type": "code",
   "execution_count": null,
   "metadata": {},
   "outputs": [],
   "source": [
    "resolutions = [.9] # clustering resolution for Leiden clustering\n",
    "\n",
    "pca_dims = [20] # number of dimensions to keep after PCA\n",
    "\n",
    "lambda_list = [.8] # lambda\n",
    "\n",
    "k_geom = 15 # 15 spatial neighbours\n",
    "\n",
    "max_m = 1 # use AGF\n",
    "\n",
    "nbr_weight_decay = \"scaled_gaussian\" # can also be \"reciprocal\", \"uniform\" or \"ranked\""
   ]
  },
  {
   "cell_type": "markdown",
   "metadata": {},
   "source": [
    "# Initialize Banksy Object"
   ]
  },
  {
   "cell_type": "code",
   "execution_count": null,
   "metadata": {},
   "outputs": [],
   "source": [
    "banksy_dict = initialize_banksy(\n",
    "    adata,\n",
    "    coord_keys,\n",
    "    k_geom,\n",
    "    nbr_weight_decay=nbr_weight_decay,\n",
    "    max_m=max_m,\n",
    "    plt_edge_hist=True,\n",
    "    plt_nbr_weights=True,\n",
    "    plt_agf_angles=False,\n",
    "    plt_theta=False,\n",
    ")"
   ]
  },
  {
   "cell_type": "markdown",
   "metadata": {},
   "source": [
    "# Run BANKSY using defined parameters"
   ]
  },
  {
   "cell_type": "code",
   "execution_count": null,
   "metadata": {},
   "outputs": [],
   "source": [
    "results_df = run_banksy_multiparam(\n",
    "    adata,\n",
    "    banksy_dict,\n",
    "    lambda_list,\n",
    "    resolutions,\n",
    "    color_list = spagcn_color,\n",
    "    max_m = max_m,\n",
    "    filepath = output_folder,\n",
    "    key = coord_keys,\n",
    "    pca_dims = pca_dims,\n",
    "    annotation_key = annotation_key,\n",
    "    max_labels = num_clusters,\n",
    "    cluster_algorithm = cluster_algorithm,\n",
    "    match_labels = False,\n",
    "    savefig = False,\n",
    "    add_nonspatial = False,\n",
    "    variance_balance = False,\n",
    ")"
   ]
  },
  {
   "cell_type": "markdown",
   "metadata": {},
   "source": [
    "## Optional Step (not used in paper): Refine Clusters \n",
    "Demonstration of how we can smooth labels based on the majority of its neighbourhood. \n",
    "Note that this is **not** used in our main manuscript. \n",
    "All algorithms run on the STARmap benchmark were performed without this refinement step"
   ]
  },
  {
   "cell_type": "code",
   "execution_count": null,
   "metadata": {},
   "outputs": [],
   "source": [
    "from banksy_utils.refine_clusters import refine_clusters\n",
    "\n",
    "results_df = refine_clusters(adata,\n",
    "                             results_df,\n",
    "                             coord_keys=coord_keys,\n",
    "                             color_list=spagcn_color,\n",
    "                             savefig=True,\n",
    "                             output_folder=output_folder,\n",
    "                             refine_method='once',\n",
    "                             annotation_key=annotation_key,\n",
    "                             num_neigh=6)\n",
    "\n",
    "run_time = (time.perf_counter_ns() - start) * 1e-9\n",
    "print(f\"BANKSY runtime = {round(run_time / 60, 3)} mins\")\n",
    "results_df.to_csv(os.path.join(output_folder, 'results.csv'))"
   ]
  },
  {
   "cell_type": "code",
   "execution_count": null,
   "metadata": {},
   "outputs": [],
   "source": []
  }
 ],
 "metadata": {
  "kernelspec": {
   "display_name": "Python 3 (ipykernel)",
   "language": "python",
   "name": "python3"
  },
  "language_info": {
   "codemirror_mode": {
    "name": "ipython",
    "version": 3
   },
   "file_extension": ".py",
   "mimetype": "text/x-python",
   "name": "python",
   "nbconvert_exporter": "python",
   "pygments_lexer": "ipython3",
   "version": "3.10.0"
  }
 },
 "nbformat": 4,
 "nbformat_minor": 4
}
